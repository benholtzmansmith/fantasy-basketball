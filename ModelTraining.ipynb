{
 "cells": [
  {
   "cell_type": "code",
   "execution_count": null,
   "metadata": {
    "collapsed": false
   },
   "outputs": [],
   "source": [
    "import numpy as np\n",
    "import pandas as pd\n",
    "import requests\n",
    "import keras\n",
    "from bs4 import BeautifulSoup\n",
    "import matplotlib.pyplot as plt\n",
    "import random\n",
    "import calendar\n",
    "from sklearn.linear_model import LinearRegression\n",
    "from sklearn.model_selection import train_test_split\n",
    "from sklearn.metrics import mean_squared_error\n",
    "from sklearn.metrics import mean_absolute_error\n",
    "from sklearn.feature_selection import SelectKBest\n",
    "%matplotlib inline  "
   ]
  },
  {
   "cell_type": "markdown",
   "metadata": {},
   "source": [
    "# Data Set"
   ]
  },
  {
   "cell_type": "code",
   "execution_count": null,
   "metadata": {
    "collapsed": true
   },
   "outputs": [],
   "source": [
    "features = ['Age', 'g', 'S%',\n",
    "       'm', 'p', '3', 'r', 'a', 's', 'b', 'fg%', 'fga', 'ft%', 'fta', 'to',\n",
    "       '3%', '3a', '2%', '2a', 'adjfg%', 'dr', 'or', '2d', '3d', 'fg',\n",
    "       'fgm', 'pf', 'ft', 'ftm', '3m', '2', 'ato', 'a+to', 'netft', 'to48',\n",
    "       '3s48', 'dpg', 'ppg', 'g.1', 's+b', 'p48', 'str', 'a-to', 'tech',\n",
    "       '3a/fga', 'ts%', 'USG', 'pV', '3V', 'rV', 'aV', 'sV', 'bV', 'fg%V',\n",
    "       'ft%V', 'toV', '3%V', '2%V', 'adjfg%V', 'drV', 'orV', '2dV', '3dV',\n",
    "       'fgV', 'fgaV', 'fgmV', 'pfV', 'ftV', 'ftaV', 'ftmV', 'mV', '3aV',\n",
    "       '3mV', '2V', '2aV', 'atoV', 'netftV', 'to48V', '3s48V', 'dpgV',\n",
    "       'ppgV', 's+bV', 'p48V', 'strV', 'a-toV', 'techV', '3a/fgaV', 'ts%V',\n",
    "       'p_Normalized', 'a_Normalized', '3_Normalized', 'r_Normalized',\n",
    "       's_Normalized', 'b_Normalized', 'to_Normalized', 'fg%_Normalized',\n",
    "       'ft%_Normalized', 'fta_Normalized', 'normalized_score']\n",
    "\n",
    "\n",
    "rankings = ['Y!Adp9', 'CBSAdp', 'CBSRank',\n",
    "       'FanTraxADP', 'Y!ORank', 'Y!Avg$', 'Y!Proj$', 'NBA Salary',\n",
    "       'ESPNAdp8', 'ESPNRank', 'ESPN$', 'ESPNProj$', 'Y!%', 'Value', 'Name', 'normalized_score']\n",
    "\n",
    "y = 'normalized_score'\n",
    "\n",
    "player_stats_by_year = []\n",
    "for year in range(2010, 2016):\n",
    "    if(year != 2017):\n",
    "        thisYear = pd.read_csv('normalized_monster_players_with_ranks_'+str(year)+\".xls\")\n",
    "        nextYear = pd.read_csv('normalized_monster_players_with_ranks_'+str(year+1)+\".xls\")\n",
    "        scores_next_year = nextYear[['Name', y]]\n",
    "        renamed_scores = scores_next_year.rename(index=str, columns={y: \"y\"})\n",
    "        merged = pd.merge(thisYear, renamed_scores, on='Name')\n",
    "        years = [year+1] * merged.shape[0]\n",
    "        merged['year'] = years\n",
    "        player_stats_by_year.append(merged)\n",
    "all_player_data = pd.concat(player_stats_by_year)\n",
    "X = all_player_data\n",
    "y = all_player_data['y']\n",
    "X_train, X_test, y_train, y_test = train_test_split(X, y, test_size=0.25, random_state=42)\n",
    "X_train_features = X_train[features]\n",
    "X_test_features = X_test[features]"
   ]
  },
  {
   "cell_type": "markdown",
   "metadata": {},
   "source": [
    "# Train Linear Regression"
   ]
  },
  {
   "cell_type": "code",
   "execution_count": null,
   "metadata": {
    "collapsed": false
   },
   "outputs": [],
   "source": [
    "lr = LinearRegression(n_jobs=-1)\n",
    "lr.fit(X_train_features,y_train)\n",
    "y_pred = [lr.predict([row]) for label,row in X_test_features.iterrows()]\n",
    "print(mean_squared_error(y_test, y_pred))"
   ]
  },
  {
   "cell_type": "markdown",
   "metadata": {},
   "source": [
    "# Run Linear Regression"
   ]
  },
  {
   "cell_type": "code",
   "execution_count": null,
   "metadata": {
    "collapsed": true
   },
   "outputs": [],
   "source": [
    "players_2017 = pd.read_csv('normalized_monster_players_with_ranks_2017.xls')\n",
    "players = players_2017.Name\n",
    "X_2017 = players_2017[features]\n",
    "y_pred = [lr.predict([row])[0] for label,row in X_2017.iterrows()]\n",
    "pred_2017 = pd.concat([players,pd.Series(y_pred, name=\"score\")], axis=1)\n",
    "pred_2017.sort_values(by=['score'], ascending=False)"
   ]
  },
  {
   "cell_type": "markdown",
   "metadata": {},
   "source": [
    "# Linear Regression Plot By Increasing Data"
   ]
  },
  {
   "cell_type": "code",
   "execution_count": null,
   "metadata": {
    "collapsed": true
   },
   "outputs": [],
   "source": [
    "from sklearn.linear_model import LinearRegression\n",
    "from sklearn.model_selection import train_test_split\n",
    "from sklearn.metrics import mean_squared_error\n",
    "from sklearn.metrics import mean_absolute_error\n",
    "\n",
    "\n",
    "features = ['Age', 'g', 'S%',\n",
    "       'm', 'p', '3', 'r', 'a', 's', 'b', 'fg%', 'fga', 'ft%', 'fta', 'to',\n",
    "       '3%', '3a', '2%', '2a', 'adjfg%', 'dr', 'or', '2d', '3d', 'fg',\n",
    "       'fgm', 'pf', 'ft', 'ftm', '3m', '2', 'ato', 'a+to', 'netft', 'to48',\n",
    "       '3s48', 'dpg', 'ppg', 'g.1', 's+b', 'p48', 'str', 'a-to', 'tech',\n",
    "       '3a/fga', 'ts%', 'USG', 'pV', '3V', 'rV', 'aV', 'sV', 'bV', 'fg%V',\n",
    "       'ft%V', 'toV', '3%V', '2%V', 'adjfg%V', 'drV', 'orV', '2dV', '3dV',\n",
    "       'fgV', 'fgaV', 'fgmV', 'pfV', 'ftV', 'ftaV', 'ftmV', 'mV', '3aV',\n",
    "       '3mV', '2V', '2aV', 'atoV', 'netftV', 'to48V', '3s48V', 'dpgV',\n",
    "       'ppgV', 's+bV', 'p48V', 'strV', 'a-toV', 'techV', '3a/fgaV', 'ts%V',\n",
    "       'p_Normalized', 'a_Normalized', '3_Normalized', 'r_Normalized',\n",
    "       's_Normalized', 'b_Normalized', 'to_Normalized', 'fg%_Normalized',\n",
    "       'ft%_Normalized', 'fta_Normalized', 'normalized_score']\n",
    "\n",
    "\n",
    "rankings = ['Y!Adp9', 'CBSAdp', 'CBSRank',\n",
    "       'FanTraxADP', 'Y!ORank', 'Y!Avg$', 'Y!Proj$', 'NBA Salary',\n",
    "       'ESPNAdp8', 'ESPNRank', 'ESPN$', 'ESPNProj$', 'Y!%', 'Value', 'Name', 'normalized_score']\n",
    "\n",
    "y_target = 'normalized_score'\n",
    "\n",
    "ranges = [range(x, 2016) for x in range(2004, 2016)]\n",
    "error = []\n",
    "for aRange in ranges:\n",
    "    player_stats_by_year = []\n",
    "    for year in aRange:\n",
    "        thisYear = pd.read_csv('normalized_monster_players_with_ranks_'+str(year)+\".xls\")\n",
    "        nextYear = pd.read_csv('normalized_monster_players_with_ranks_'+str(year+1)+\".xls\")\n",
    "        scores_next_year = nextYear[['Name', y_target]]\n",
    "        renamed_scores = scores_next_year.rename(index=str, columns={y_target: \"y\"})\n",
    "        merged = pd.merge(thisYear, renamed_scores, on='Name')\n",
    "        years = [year+1] * merged.shape[0]\n",
    "        merged['year'] = years\n",
    "        player_stats_by_year.append(merged)\n",
    "    all_player_data = pd.concat(player_stats_by_year)\n",
    "    lr = LinearRegression(n_jobs=-1)\n",
    "    X = all_player_data\n",
    "    y = all_player_data['y']\n",
    "    X_train, X_test, y_train, y_test = train_test_split(X, y, test_size=0.25, random_state=42)\n",
    "    X_train_features = X_train[features]\n",
    "    X_test_features = X_test[features]\n",
    "    lr.fit(X_train_features,y_train)\n",
    "    y_pred = [lr.predict([row]) for label,row in X_test_features.iterrows()]\n",
    "    mse = mean_squared_error(y_test, y_pred)\n",
    "    error.append((len(aRange), mse))\n",
    "iters = zip(*error)[0]\n",
    "mse = zip(*error)[1]\n",
    "print(error)\n",
    "plt.scatter(x=iters, y=mse)"
   ]
  },
  {
   "cell_type": "markdown",
   "metadata": {},
   "source": [
    "# Feature selection - show features with lowest p values"
   ]
  },
  {
   "cell_type": "code",
   "execution_count": null,
   "metadata": {
    "collapsed": false
   },
   "outputs": [],
   "source": [
    "sb = SelectKBest()\n",
    "sb.fit(X[features].as_matrix(), np.array(y))\n",
    "scores = zip(sb.pvalues_, features)\n",
    "scores.sort(key=lambda tup: tup[0])\n",
    "scores"
   ]
  },
  {
   "cell_type": "markdown",
   "metadata": {},
   "source": [
    "# Basic Neural Net"
   ]
  },
  {
   "cell_type": "code",
   "execution_count": null,
   "metadata": {
    "collapsed": false
   },
   "outputs": [],
   "source": [
    "import numpy\n",
    "import pandas\n",
    "from keras.layers import Dense\n",
    "from keras.layers import Input\n",
    "from keras.models import Model\n",
    "\n",
    "inputs = Input(shape=(99,))\n",
    "hidden1 = Dense(10,init='normal', activation='relu')(inputs)\n",
    "predictions = Dense(1, init='normal')(hidden1)\n",
    "model = Model(input=inputs, output=predictions)\n",
    "model.compile(loss='mean_squared_error', optimizer='adam')\n",
    "model.fit(X[features].as_matrix(), y,\n",
    "          nb_epoch=20,\n",
    "          validation_split=.15)\n",
    "\n",
    "y_pred = [model.predict(np.array(row).reshape(1, 99))[0][0] for label,row in X_test_features.iterrows()]\n",
    "mean_squared_error(y_test, y_pred)"
   ]
  },
  {
   "cell_type": "markdown",
   "metadata": {},
   "source": [
    "# Train Neural Net on Increasing Data w/ Plot"
   ]
  },
  {
   "cell_type": "code",
   "execution_count": null,
   "metadata": {
    "collapsed": true
   },
   "outputs": [],
   "source": [
    "import numpy\n",
    "import pandas\n",
    "from keras.layers import Dense\n",
    "from keras.layers import Input\n",
    "from keras.models import Model\n",
    "\n",
    "\n",
    "ranges = [range(x, 2016) for x in range(2004, 2016)]\n",
    "error = []\n",
    "for aRange in ranges:\n",
    "    player_stats_by_year = []\n",
    "    for year in aRange:\n",
    "        thisYear = pd.read_csv('normalized_monster_players_with_ranks_'+str(year)+\".xls\")\n",
    "        nextYear = pd.read_csv('normalized_monster_players_with_ranks_'+str(year+1)+\".xls\")\n",
    "        scores_next_year = nextYear[['Name', y_target]]\n",
    "        renamed_scores = scores_next_year.rename(index=str, columns={y_target: \"y\"})\n",
    "        merged = pd.merge(thisYear, renamed_scores, on='Name')\n",
    "        years = [year+1] * merged.shape[0]\n",
    "        merged['year'] = years\n",
    "        player_stats_by_year.append(merged)\n",
    "    all_player_data = pd.concat(player_stats_by_year)\n",
    "    X = all_player_data\n",
    "    y = all_player_data['y']\n",
    "    X_train, X_test, y_train, y_test = train_test_split(X, y, test_size=0.25, random_state=42)\n",
    "    X_train_features = X_train[features]\n",
    "    X_test_features = X_test[features]\n",
    "    inputs = Input(shape=(shape,))\n",
    "    hidden1 = Dense(10,init='normal', activation='relu')(inputs)\n",
    "    predictions = Dense(1, init='normal')(hidden1)\n",
    "    model = Model(input=inputs, output=predictions)\n",
    "    model.compile(loss='mean_squared_error', optimizer='adam')\n",
    "    model.fit(X[features].as_matrix(), y,\n",
    "              nb_epoch=10,\n",
    "              validation_split=.15)\n",
    "    y_pred = [model.predict(np.array(row).reshape(1, 99))[0][0] for label,row in X_test_features.iterrows()]\n",
    "    mse = mean_squared_error(y_test, y_pred)\n",
    "    error.append((len(aRange), mse))\n",
    "iters = zip(*error)[0]\n",
    "mse_2 = zip(*error)[1]\n",
    "plt.scatter(x=iters, y=mse2)"
   ]
  },
  {
   "cell_type": "markdown",
   "metadata": {},
   "source": [
    "# Denser Neural Net"
   ]
  },
  {
   "cell_type": "code",
   "execution_count": null,
   "metadata": {
    "collapsed": false
   },
   "outputs": [],
   "source": [
    "import numpy\n",
    "import pandas\n",
    "from keras.layers import Dense\n",
    "from keras.layers import Input\n",
    "from keras.models import Model\n",
    "\n",
    "inputs = Input(shape=(99,))\n",
    "hidden1 = Dense(10,init='normal', activation='relu')(inputs)\n",
    "hidden2 = Dense(10,init='normal', activation='relu')(hidden1)\n",
    "hidden3 = Dense(10,init='normal', activation='linear')(hidden2)\n",
    "predictions = Dense(1, init='normal')(hidden3)\n",
    "model = Model(input=inputs, output=predictions)\n",
    "model.compile(loss='mean_squared_error', optimizer='adam')\n",
    "model.fit(X_train_features.as_matrix(), y_train,\n",
    "          nb_epoch=10,\n",
    "          validation_split=.15)\n",
    "\n",
    "y_pred = [model.predict(np.array(row).reshape(1, 99))[0][0] for label,row in X_test_features.iterrows()]\n",
    "mean_squared_error(y_test, y_pred)"
   ]
  },
  {
   "cell_type": "markdown",
   "metadata": {},
   "source": [
    "# Running Neural Net"
   ]
  },
  {
   "cell_type": "code",
   "execution_count": null,
   "metadata": {
    "collapsed": false
   },
   "outputs": [],
   "source": [
    "all_data = pd.read_csv('normalized_monster_players_with_ranks_2017.xls')\n",
    "players = all_data.Name\n",
    "X = all_data[features]\n",
    "y_pred = [model.predict(np.array(row).reshape(1, 99))[0][0] for label,row in X.iterrows()]\n",
    "pred_2017 = pd.concat([players,pd.Series(y_pred, name=\"score\")], axis=1)\n",
    "pred_2017.sort_values(by=['score'], ascending=False)"
   ]
  },
  {
   "cell_type": "code",
   "execution_count": null,
   "metadata": {
    "collapsed": true
   },
   "outputs": [],
   "source": []
  }
 ],
 "metadata": {
  "kernelspec": {
   "display_name": "Python 2",
   "language": "python",
   "name": "python2"
  },
  "language_info": {
   "codemirror_mode": {
    "name": "ipython",
    "version": 2
   },
   "file_extension": ".py",
   "mimetype": "text/x-python",
   "name": "python",
   "nbconvert_exporter": "python",
   "pygments_lexer": "ipython2",
   "version": "2.7.10"
  }
 },
 "nbformat": 4,
 "nbformat_minor": 0
}
